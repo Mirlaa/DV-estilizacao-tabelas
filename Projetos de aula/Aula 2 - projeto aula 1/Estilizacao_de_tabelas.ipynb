{
  "nbformat": 4,
  "nbformat_minor": 0,
  "metadata": {
    "colab": {
      "provenance": [],
      "collapsed_sections": [
        "cJc43_SLO8T2",
        "UITGxJXGQRtT",
        "XtlH8tHOdUOv"
      ]
    },
    "kernelspec": {
      "name": "python3",
      "display_name": "Python 3"
    },
    "language_info": {
      "name": "python"
    }
  },
  "cells": [
    {
      "cell_type": "markdown",
      "source": [
        "# Coleta e preparação de dados"
      ],
      "metadata": {
        "id": "AXPz8H6FOyfG"
      }
    },
    {
      "cell_type": "code",
      "source": [
        "!pip install pandas==2.0.0"
      ],
      "metadata": {
        "id": "4JXDO23R7vnJ",
        "colab": {
          "base_uri": "https://localhost:8080/"
        },
        "outputId": "3cd62059-5889-4405-d210-28bc1c676130"
      },
      "execution_count": null,
      "outputs": [
        {
          "output_type": "stream",
          "name": "stdout",
          "text": [
            "Looking in indexes: https://pypi.org/simple, https://us-python.pkg.dev/colab-wheels/public/simple/\n",
            "Collecting pandas==2.0.0\n",
            "  Downloading pandas-2.0.0-cp310-cp310-manylinux_2_17_x86_64.manylinux2014_x86_64.whl (12.3 MB)\n",
            "\u001b[2K     \u001b[90m━━━━━━━━━━━━━━━━━━━━━━━━━━━━━━━━━━━━━━━━\u001b[0m \u001b[32m12.3/12.3 MB\u001b[0m \u001b[31m21.3 MB/s\u001b[0m eta \u001b[36m0:00:00\u001b[0m\n",
            "\u001b[?25hRequirement already satisfied: numpy>=1.21.0 in /usr/local/lib/python3.10/dist-packages (from pandas==2.0.0) (1.22.4)\n",
            "Requirement already satisfied: python-dateutil>=2.8.2 in /usr/local/lib/python3.10/dist-packages (from pandas==2.0.0) (2.8.2)\n",
            "Requirement already satisfied: pytz>=2020.1 in /usr/local/lib/python3.10/dist-packages (from pandas==2.0.0) (2022.7.1)\n",
            "Requirement already satisfied: tzdata>=2022.1 in /usr/local/lib/python3.10/dist-packages (from pandas==2.0.0) (2023.3)\n",
            "Requirement already satisfied: six>=1.5 in /usr/local/lib/python3.10/dist-packages (from python-dateutil>=2.8.2->pandas==2.0.0) (1.16.0)\n",
            "Installing collected packages: pandas\n",
            "  Attempting uninstall: pandas\n",
            "    Found existing installation: pandas 1.5.3\n",
            "    Uninstalling pandas-1.5.3:\n",
            "      Successfully uninstalled pandas-1.5.3\n",
            "\u001b[31mERROR: pip's dependency resolver does not currently take into account all the packages that are installed. This behaviour is the source of the following dependency conflicts.\n",
            "google-colab 1.0.0 requires pandas~=1.5.3, but you have pandas 2.0.0 which is incompatible.\u001b[0m\u001b[31m\n",
            "\u001b[0mSuccessfully installed pandas-2.0.0\n"
          ]
        }
      ]
    },
    {
      "cell_type": "code",
      "source": [
        "import pandas as pd\n",
        "\n",
        "df = pd.read_csv('/content/relatorio_vendas.csv')\n",
        "df"
      ],
      "metadata": {
        "id": "X0Z1V9UWPq9i",
        "colab": {
          "base_uri": "https://localhost:8080/",
          "height": 696
        },
        "outputId": "cbae8383-c4f1-44a8-f73c-cf1d2a6864d4"
      },
      "execution_count": null,
      "outputs": [
        {
          "output_type": "execute_result",
          "data": {
            "text/plain": [
              "     data_pedido      modo_envio       nome_cliente segmento_cliente   \n",
              "0     2018-11-09       Econômica    Thiago Silveira              B2C  \\\n",
              "1     2018-11-09       Econômica    Thiago Silveira              B2C   \n",
              "2     2018-06-13       Econômica      Giovanna Lima              B2B   \n",
              "3     2017-10-12  Entrega padrão  Ana Júlia da Cruz              B2C   \n",
              "4     2017-10-12  Entrega padrão  Ana Júlia da Cruz              B2C   \n",
              "...          ...             ...                ...              ...   \n",
              "8935  2018-09-30  Entrega padrão     Enrique Santos              B2C   \n",
              "8936  2019-11-18  Entrega padrão    Heitor Silveira              B2B   \n",
              "8937  2019-11-18  Entrega padrão    Heitor Silveira              B2B   \n",
              "8938  2016-01-22       Econômica      Isabel Araújo              B2C   \n",
              "8939  2019-05-05       Econômica   Esther Rodrigues              B2C   \n",
              "\n",
              "              cidade               estado    regiao             departamento   \n",
              "0     Ribeirão Preto            São Paulo   Sudeste  Materiais de construção  \\\n",
              "1     Ribeirão Preto            São Paulo   Sudeste  Materiais de construção   \n",
              "2     Rio de Janeiro       Rio de Janeiro   Sudeste  Jardinagem e paisagismo   \n",
              "3      Foz do Iguaçu               Paraná       Sul  Materiais de construção   \n",
              "4      Foz do Iguaçu               Paraná       Sul  Jardinagem e paisagismo   \n",
              "...              ...                  ...       ...                      ...   \n",
              "8935  Rio de Janeiro       Rio de Janeiro   Sudeste               Automotivo   \n",
              "8936          Jequié                Bahia  Nordeste               Automotivo   \n",
              "8937          Jequié                Bahia  Nordeste               Automotivo   \n",
              "8938     João Pessoa              Paraíba  Nordeste  Materiais de construção   \n",
              "8939         Mossoró  Rio Grande do Norte  Nordeste  Jardinagem e paisagismo   \n",
              "\n",
              "                   tipo_produto   vendas  quantidade    lucro  \n",
              "0                  encanamentos   890.66           2   142.51  \n",
              "1                   ferramentas  2488.60           3   746.58  \n",
              "2                      sementes    49.71           2    23.36  \n",
              "3     materiais de revestimento  3255.76           5 -1302.31  \n",
              "4                         vasos    76.05           2     8.56  \n",
              "...                         ...      ...         ...      ...  \n",
              "8935    ferramentas automotivas   123.22           1    51.75  \n",
              "8936    ferramentas automotivas   271.97           1    97.91  \n",
              "8937                      pneus   700.74           5   189.20  \n",
              "8938                 iluminação    85.84           3    13.95  \n",
              "8939     mobiliário de exterior   826.74           2   248.02  \n",
              "\n",
              "[8940 rows x 12 columns]"
            ],
            "text/html": [
              "\n",
              "  <div id=\"df-5fe3d56c-e8e8-4b3f-a997-ceaa74af956c\">\n",
              "    <div class=\"colab-df-container\">\n",
              "      <div>\n",
              "<style scoped>\n",
              "    .dataframe tbody tr th:only-of-type {\n",
              "        vertical-align: middle;\n",
              "    }\n",
              "\n",
              "    .dataframe tbody tr th {\n",
              "        vertical-align: top;\n",
              "    }\n",
              "\n",
              "    .dataframe thead th {\n",
              "        text-align: right;\n",
              "    }\n",
              "</style>\n",
              "<table border=\"1\" class=\"dataframe\">\n",
              "  <thead>\n",
              "    <tr style=\"text-align: right;\">\n",
              "      <th></th>\n",
              "      <th>data_pedido</th>\n",
              "      <th>modo_envio</th>\n",
              "      <th>nome_cliente</th>\n",
              "      <th>segmento_cliente</th>\n",
              "      <th>cidade</th>\n",
              "      <th>estado</th>\n",
              "      <th>regiao</th>\n",
              "      <th>departamento</th>\n",
              "      <th>tipo_produto</th>\n",
              "      <th>vendas</th>\n",
              "      <th>quantidade</th>\n",
              "      <th>lucro</th>\n",
              "    </tr>\n",
              "  </thead>\n",
              "  <tbody>\n",
              "    <tr>\n",
              "      <th>0</th>\n",
              "      <td>2018-11-09</td>\n",
              "      <td>Econômica</td>\n",
              "      <td>Thiago Silveira</td>\n",
              "      <td>B2C</td>\n",
              "      <td>Ribeirão Preto</td>\n",
              "      <td>São Paulo</td>\n",
              "      <td>Sudeste</td>\n",
              "      <td>Materiais de construção</td>\n",
              "      <td>encanamentos</td>\n",
              "      <td>890.66</td>\n",
              "      <td>2</td>\n",
              "      <td>142.51</td>\n",
              "    </tr>\n",
              "    <tr>\n",
              "      <th>1</th>\n",
              "      <td>2018-11-09</td>\n",
              "      <td>Econômica</td>\n",
              "      <td>Thiago Silveira</td>\n",
              "      <td>B2C</td>\n",
              "      <td>Ribeirão Preto</td>\n",
              "      <td>São Paulo</td>\n",
              "      <td>Sudeste</td>\n",
              "      <td>Materiais de construção</td>\n",
              "      <td>ferramentas</td>\n",
              "      <td>2488.60</td>\n",
              "      <td>3</td>\n",
              "      <td>746.58</td>\n",
              "    </tr>\n",
              "    <tr>\n",
              "      <th>2</th>\n",
              "      <td>2018-06-13</td>\n",
              "      <td>Econômica</td>\n",
              "      <td>Giovanna Lima</td>\n",
              "      <td>B2B</td>\n",
              "      <td>Rio de Janeiro</td>\n",
              "      <td>Rio de Janeiro</td>\n",
              "      <td>Sudeste</td>\n",
              "      <td>Jardinagem e paisagismo</td>\n",
              "      <td>sementes</td>\n",
              "      <td>49.71</td>\n",
              "      <td>2</td>\n",
              "      <td>23.36</td>\n",
              "    </tr>\n",
              "    <tr>\n",
              "      <th>3</th>\n",
              "      <td>2017-10-12</td>\n",
              "      <td>Entrega padrão</td>\n",
              "      <td>Ana Júlia da Cruz</td>\n",
              "      <td>B2C</td>\n",
              "      <td>Foz do Iguaçu</td>\n",
              "      <td>Paraná</td>\n",
              "      <td>Sul</td>\n",
              "      <td>Materiais de construção</td>\n",
              "      <td>materiais de revestimento</td>\n",
              "      <td>3255.76</td>\n",
              "      <td>5</td>\n",
              "      <td>-1302.31</td>\n",
              "    </tr>\n",
              "    <tr>\n",
              "      <th>4</th>\n",
              "      <td>2017-10-12</td>\n",
              "      <td>Entrega padrão</td>\n",
              "      <td>Ana Júlia da Cruz</td>\n",
              "      <td>B2C</td>\n",
              "      <td>Foz do Iguaçu</td>\n",
              "      <td>Paraná</td>\n",
              "      <td>Sul</td>\n",
              "      <td>Jardinagem e paisagismo</td>\n",
              "      <td>vasos</td>\n",
              "      <td>76.05</td>\n",
              "      <td>2</td>\n",
              "      <td>8.56</td>\n",
              "    </tr>\n",
              "    <tr>\n",
              "      <th>...</th>\n",
              "      <td>...</td>\n",
              "      <td>...</td>\n",
              "      <td>...</td>\n",
              "      <td>...</td>\n",
              "      <td>...</td>\n",
              "      <td>...</td>\n",
              "      <td>...</td>\n",
              "      <td>...</td>\n",
              "      <td>...</td>\n",
              "      <td>...</td>\n",
              "      <td>...</td>\n",
              "      <td>...</td>\n",
              "    </tr>\n",
              "    <tr>\n",
              "      <th>8935</th>\n",
              "      <td>2018-09-30</td>\n",
              "      <td>Entrega padrão</td>\n",
              "      <td>Enrique Santos</td>\n",
              "      <td>B2C</td>\n",
              "      <td>Rio de Janeiro</td>\n",
              "      <td>Rio de Janeiro</td>\n",
              "      <td>Sudeste</td>\n",
              "      <td>Automotivo</td>\n",
              "      <td>ferramentas automotivas</td>\n",
              "      <td>123.22</td>\n",
              "      <td>1</td>\n",
              "      <td>51.75</td>\n",
              "    </tr>\n",
              "    <tr>\n",
              "      <th>8936</th>\n",
              "      <td>2019-11-18</td>\n",
              "      <td>Entrega padrão</td>\n",
              "      <td>Heitor Silveira</td>\n",
              "      <td>B2B</td>\n",
              "      <td>Jequié</td>\n",
              "      <td>Bahia</td>\n",
              "      <td>Nordeste</td>\n",
              "      <td>Automotivo</td>\n",
              "      <td>ferramentas automotivas</td>\n",
              "      <td>271.97</td>\n",
              "      <td>1</td>\n",
              "      <td>97.91</td>\n",
              "    </tr>\n",
              "    <tr>\n",
              "      <th>8937</th>\n",
              "      <td>2019-11-18</td>\n",
              "      <td>Entrega padrão</td>\n",
              "      <td>Heitor Silveira</td>\n",
              "      <td>B2B</td>\n",
              "      <td>Jequié</td>\n",
              "      <td>Bahia</td>\n",
              "      <td>Nordeste</td>\n",
              "      <td>Automotivo</td>\n",
              "      <td>pneus</td>\n",
              "      <td>700.74</td>\n",
              "      <td>5</td>\n",
              "      <td>189.20</td>\n",
              "    </tr>\n",
              "    <tr>\n",
              "      <th>8938</th>\n",
              "      <td>2016-01-22</td>\n",
              "      <td>Econômica</td>\n",
              "      <td>Isabel Araújo</td>\n",
              "      <td>B2C</td>\n",
              "      <td>João Pessoa</td>\n",
              "      <td>Paraíba</td>\n",
              "      <td>Nordeste</td>\n",
              "      <td>Materiais de construção</td>\n",
              "      <td>iluminação</td>\n",
              "      <td>85.84</td>\n",
              "      <td>3</td>\n",
              "      <td>13.95</td>\n",
              "    </tr>\n",
              "    <tr>\n",
              "      <th>8939</th>\n",
              "      <td>2019-05-05</td>\n",
              "      <td>Econômica</td>\n",
              "      <td>Esther Rodrigues</td>\n",
              "      <td>B2C</td>\n",
              "      <td>Mossoró</td>\n",
              "      <td>Rio Grande do Norte</td>\n",
              "      <td>Nordeste</td>\n",
              "      <td>Jardinagem e paisagismo</td>\n",
              "      <td>mobiliário de exterior</td>\n",
              "      <td>826.74</td>\n",
              "      <td>2</td>\n",
              "      <td>248.02</td>\n",
              "    </tr>\n",
              "  </tbody>\n",
              "</table>\n",
              "<p>8940 rows × 12 columns</p>\n",
              "</div>\n",
              "      <button class=\"colab-df-convert\" onclick=\"convertToInteractive('df-5fe3d56c-e8e8-4b3f-a997-ceaa74af956c')\"\n",
              "              title=\"Convert this dataframe to an interactive table.\"\n",
              "              style=\"display:none;\">\n",
              "        \n",
              "  <svg xmlns=\"http://www.w3.org/2000/svg\" height=\"24px\"viewBox=\"0 0 24 24\"\n",
              "       width=\"24px\">\n",
              "    <path d=\"M0 0h24v24H0V0z\" fill=\"none\"/>\n",
              "    <path d=\"M18.56 5.44l.94 2.06.94-2.06 2.06-.94-2.06-.94-.94-2.06-.94 2.06-2.06.94zm-11 1L8.5 8.5l.94-2.06 2.06-.94-2.06-.94L8.5 2.5l-.94 2.06-2.06.94zm10 10l.94 2.06.94-2.06 2.06-.94-2.06-.94-.94-2.06-.94 2.06-2.06.94z\"/><path d=\"M17.41 7.96l-1.37-1.37c-.4-.4-.92-.59-1.43-.59-.52 0-1.04.2-1.43.59L10.3 9.45l-7.72 7.72c-.78.78-.78 2.05 0 2.83L4 21.41c.39.39.9.59 1.41.59.51 0 1.02-.2 1.41-.59l7.78-7.78 2.81-2.81c.8-.78.8-2.07 0-2.86zM5.41 20L4 18.59l7.72-7.72 1.47 1.35L5.41 20z\"/>\n",
              "  </svg>\n",
              "      </button>\n",
              "      \n",
              "  <style>\n",
              "    .colab-df-container {\n",
              "      display:flex;\n",
              "      flex-wrap:wrap;\n",
              "      gap: 12px;\n",
              "    }\n",
              "\n",
              "    .colab-df-convert {\n",
              "      background-color: #E8F0FE;\n",
              "      border: none;\n",
              "      border-radius: 50%;\n",
              "      cursor: pointer;\n",
              "      display: none;\n",
              "      fill: #1967D2;\n",
              "      height: 32px;\n",
              "      padding: 0 0 0 0;\n",
              "      width: 32px;\n",
              "    }\n",
              "\n",
              "    .colab-df-convert:hover {\n",
              "      background-color: #E2EBFA;\n",
              "      box-shadow: 0px 1px 2px rgba(60, 64, 67, 0.3), 0px 1px 3px 1px rgba(60, 64, 67, 0.15);\n",
              "      fill: #174EA6;\n",
              "    }\n",
              "\n",
              "    [theme=dark] .colab-df-convert {\n",
              "      background-color: #3B4455;\n",
              "      fill: #D2E3FC;\n",
              "    }\n",
              "\n",
              "    [theme=dark] .colab-df-convert:hover {\n",
              "      background-color: #434B5C;\n",
              "      box-shadow: 0px 1px 3px 1px rgba(0, 0, 0, 0.15);\n",
              "      filter: drop-shadow(0px 1px 2px rgba(0, 0, 0, 0.3));\n",
              "      fill: #FFFFFF;\n",
              "    }\n",
              "  </style>\n",
              "\n",
              "      <script>\n",
              "        const buttonEl =\n",
              "          document.querySelector('#df-5fe3d56c-e8e8-4b3f-a997-ceaa74af956c button.colab-df-convert');\n",
              "        buttonEl.style.display =\n",
              "          google.colab.kernel.accessAllowed ? 'block' : 'none';\n",
              "\n",
              "        async function convertToInteractive(key) {\n",
              "          const element = document.querySelector('#df-5fe3d56c-e8e8-4b3f-a997-ceaa74af956c');\n",
              "          const dataTable =\n",
              "            await google.colab.kernel.invokeFunction('convertToInteractive',\n",
              "                                                     [key], {});\n",
              "          if (!dataTable) return;\n",
              "\n",
              "          const docLinkHtml = 'Like what you see? Visit the ' +\n",
              "            '<a target=\"_blank\" href=https://colab.research.google.com/notebooks/data_table.ipynb>data table notebook</a>'\n",
              "            + ' to learn more about interactive tables.';\n",
              "          element.innerHTML = '';\n",
              "          dataTable['output_type'] = 'display_data';\n",
              "          await google.colab.output.renderOutput(dataTable, element);\n",
              "          const docLink = document.createElement('div');\n",
              "          docLink.innerHTML = docLinkHtml;\n",
              "          element.appendChild(docLink);\n",
              "        }\n",
              "      </script>\n",
              "    </div>\n",
              "  </div>\n",
              "  "
            ]
          },
          "metadata": {},
          "execution_count": 2
        }
      ]
    },
    {
      "cell_type": "code",
      "source": [
        "df.info()"
      ],
      "metadata": {
        "id": "X7gD-jDkPq2Q",
        "colab": {
          "base_uri": "https://localhost:8080/"
        },
        "outputId": "4eef42ac-b25c-48bc-b136-2625218e8d33"
      },
      "execution_count": null,
      "outputs": [
        {
          "output_type": "stream",
          "name": "stdout",
          "text": [
            "<class 'pandas.core.frame.DataFrame'>\n",
            "RangeIndex: 8940 entries, 0 to 8939\n",
            "Data columns (total 12 columns):\n",
            " #   Column            Non-Null Count  Dtype  \n",
            "---  ------            --------------  -----  \n",
            " 0   data_pedido       8940 non-null   object \n",
            " 1   modo_envio        8940 non-null   object \n",
            " 2   nome_cliente      8940 non-null   object \n",
            " 3   segmento_cliente  8940 non-null   object \n",
            " 4   cidade            8940 non-null   object \n",
            " 5   estado            8940 non-null   object \n",
            " 6   regiao            8940 non-null   object \n",
            " 7   departamento      8940 non-null   object \n",
            " 8   tipo_produto      8940 non-null   object \n",
            " 9   vendas            8940 non-null   float64\n",
            " 10  quantidade        8940 non-null   int64  \n",
            " 11  lucro             8940 non-null   float64\n",
            "dtypes: float64(2), int64(1), object(9)\n",
            "memory usage: 838.2+ KB\n"
          ]
        }
      ]
    },
    {
      "cell_type": "code",
      "source": [
        "df['data_pedido'] = pd.to_datetime(df['data_pedido'])"
      ],
      "metadata": {
        "id": "27njuCFLPqr4"
      },
      "execution_count": null,
      "outputs": []
    },
    {
      "cell_type": "code",
      "source": [
        "df.info()"
      ],
      "metadata": {
        "id": "g5sp08UiPqhG",
        "colab": {
          "base_uri": "https://localhost:8080/"
        },
        "outputId": "2dbf47f8-4c6d-47e9-b744-685c87b8eb19"
      },
      "execution_count": null,
      "outputs": [
        {
          "output_type": "stream",
          "name": "stdout",
          "text": [
            "<class 'pandas.core.frame.DataFrame'>\n",
            "RangeIndex: 8940 entries, 0 to 8939\n",
            "Data columns (total 12 columns):\n",
            " #   Column            Non-Null Count  Dtype         \n",
            "---  ------            --------------  -----         \n",
            " 0   data_pedido       8940 non-null   datetime64[ns]\n",
            " 1   modo_envio        8940 non-null   object        \n",
            " 2   nome_cliente      8940 non-null   object        \n",
            " 3   segmento_cliente  8940 non-null   object        \n",
            " 4   cidade            8940 non-null   object        \n",
            " 5   estado            8940 non-null   object        \n",
            " 6   regiao            8940 non-null   object        \n",
            " 7   departamento      8940 non-null   object        \n",
            " 8   tipo_produto      8940 non-null   object        \n",
            " 9   vendas            8940 non-null   float64       \n",
            " 10  quantidade        8940 non-null   int64         \n",
            " 11  lucro             8940 non-null   float64       \n",
            "dtypes: datetime64[ns](1), float64(2), int64(1), object(8)\n",
            "memory usage: 838.2+ KB\n"
          ]
        }
      ]
    },
    {
      "cell_type": "code",
      "execution_count": null,
      "metadata": {
        "id": "pViQUUzbOr4_"
      },
      "outputs": [],
      "source": []
    },
    {
      "cell_type": "markdown",
      "source": [
        "# Missão 1: Time de vendas\n",
        "\n",
        "Precisamos construir uma visualização para indicar os **10 maiores clientes por total de venda**.\n",
        "\n",
        "Com isso, a equipe de vendas pode pensar em estratégias para manter esses clientes comprando em nossa loja."
      ],
      "metadata": {
        "id": "cJc43_SLO8T2"
      }
    },
    {
      "cell_type": "code",
      "source": [
        "df_cliente_vendas = df.groupby(['nome_cliente'])['vendas'].sum().nlargest(10).copy()\n",
        "df_cliente_vendas = df_cliente_vendas.reset_index()\n",
        "df_cliente_vendas"
      ],
      "metadata": {
        "colab": {
          "base_uri": "https://localhost:8080/"
        },
        "id": "hiVCc7rwncqQ",
        "outputId": "625f25f9-827b-4471-e699-11951e68801d"
      },
      "execution_count": null,
      "outputs": [
        {
          "output_type": "execute_result",
          "data": {
            "text/plain": [
              "            nome_cliente    vendas\n",
              "0    Maria Luiza Almeida  64777.54\n",
              "1        Ana Julia Pinto  51398.95\n",
              "2            Ryan Farias  48178.94\n",
              "3         Heitor da Mata  47610.85\n",
              "4  Maria Clara Gonçalves  46946.42\n",
              "5         Raquel Freitas  44826.26\n",
              "6             Davi Ramos  43769.21\n",
              "7            Amanda Melo  42354.27\n",
              "8         Alexia Ribeiro  41238.84\n",
              "9         Calebe Ribeiro  41056.70"
            ],
            "text/html": [
              "\n",
              "  <div id=\"df-1379120a-cb6b-4876-a32d-44722b527ca5\">\n",
              "    <div class=\"colab-df-container\">\n",
              "      <div>\n",
              "<style scoped>\n",
              "    .dataframe tbody tr th:only-of-type {\n",
              "        vertical-align: middle;\n",
              "    }\n",
              "\n",
              "    .dataframe tbody tr th {\n",
              "        vertical-align: top;\n",
              "    }\n",
              "\n",
              "    .dataframe thead th {\n",
              "        text-align: right;\n",
              "    }\n",
              "</style>\n",
              "<table border=\"1\" class=\"dataframe\">\n",
              "  <thead>\n",
              "    <tr style=\"text-align: right;\">\n",
              "      <th></th>\n",
              "      <th>nome_cliente</th>\n",
              "      <th>vendas</th>\n",
              "    </tr>\n",
              "  </thead>\n",
              "  <tbody>\n",
              "    <tr>\n",
              "      <th>0</th>\n",
              "      <td>Maria Luiza Almeida</td>\n",
              "      <td>64777.54</td>\n",
              "    </tr>\n",
              "    <tr>\n",
              "      <th>1</th>\n",
              "      <td>Ana Julia Pinto</td>\n",
              "      <td>51398.95</td>\n",
              "    </tr>\n",
              "    <tr>\n",
              "      <th>2</th>\n",
              "      <td>Ryan Farias</td>\n",
              "      <td>48178.94</td>\n",
              "    </tr>\n",
              "    <tr>\n",
              "      <th>3</th>\n",
              "      <td>Heitor da Mata</td>\n",
              "      <td>47610.85</td>\n",
              "    </tr>\n",
              "    <tr>\n",
              "      <th>4</th>\n",
              "      <td>Maria Clara Gonçalves</td>\n",
              "      <td>46946.42</td>\n",
              "    </tr>\n",
              "    <tr>\n",
              "      <th>5</th>\n",
              "      <td>Raquel Freitas</td>\n",
              "      <td>44826.26</td>\n",
              "    </tr>\n",
              "    <tr>\n",
              "      <th>6</th>\n",
              "      <td>Davi Ramos</td>\n",
              "      <td>43769.21</td>\n",
              "    </tr>\n",
              "    <tr>\n",
              "      <th>7</th>\n",
              "      <td>Amanda Melo</td>\n",
              "      <td>42354.27</td>\n",
              "    </tr>\n",
              "    <tr>\n",
              "      <th>8</th>\n",
              "      <td>Alexia Ribeiro</td>\n",
              "      <td>41238.84</td>\n",
              "    </tr>\n",
              "    <tr>\n",
              "      <th>9</th>\n",
              "      <td>Calebe Ribeiro</td>\n",
              "      <td>41056.70</td>\n",
              "    </tr>\n",
              "  </tbody>\n",
              "</table>\n",
              "</div>\n",
              "      <button class=\"colab-df-convert\" onclick=\"convertToInteractive('df-1379120a-cb6b-4876-a32d-44722b527ca5')\"\n",
              "              title=\"Convert this dataframe to an interactive table.\"\n",
              "              style=\"display:none;\">\n",
              "        \n",
              "  <svg xmlns=\"http://www.w3.org/2000/svg\" height=\"24px\"viewBox=\"0 0 24 24\"\n",
              "       width=\"24px\">\n",
              "    <path d=\"M0 0h24v24H0V0z\" fill=\"none\"/>\n",
              "    <path d=\"M18.56 5.44l.94 2.06.94-2.06 2.06-.94-2.06-.94-.94-2.06-.94 2.06-2.06.94zm-11 1L8.5 8.5l.94-2.06 2.06-.94-2.06-.94L8.5 2.5l-.94 2.06-2.06.94zm10 10l.94 2.06.94-2.06 2.06-.94-2.06-.94-.94-2.06-.94 2.06-2.06.94z\"/><path d=\"M17.41 7.96l-1.37-1.37c-.4-.4-.92-.59-1.43-.59-.52 0-1.04.2-1.43.59L10.3 9.45l-7.72 7.72c-.78.78-.78 2.05 0 2.83L4 21.41c.39.39.9.59 1.41.59.51 0 1.02-.2 1.41-.59l7.78-7.78 2.81-2.81c.8-.78.8-2.07 0-2.86zM5.41 20L4 18.59l7.72-7.72 1.47 1.35L5.41 20z\"/>\n",
              "  </svg>\n",
              "      </button>\n",
              "      \n",
              "  <style>\n",
              "    .colab-df-container {\n",
              "      display:flex;\n",
              "      flex-wrap:wrap;\n",
              "      gap: 12px;\n",
              "    }\n",
              "\n",
              "    .colab-df-convert {\n",
              "      background-color: #E8F0FE;\n",
              "      border: none;\n",
              "      border-radius: 50%;\n",
              "      cursor: pointer;\n",
              "      display: none;\n",
              "      fill: #1967D2;\n",
              "      height: 32px;\n",
              "      padding: 0 0 0 0;\n",
              "      width: 32px;\n",
              "    }\n",
              "\n",
              "    .colab-df-convert:hover {\n",
              "      background-color: #E2EBFA;\n",
              "      box-shadow: 0px 1px 2px rgba(60, 64, 67, 0.3), 0px 1px 3px 1px rgba(60, 64, 67, 0.15);\n",
              "      fill: #174EA6;\n",
              "    }\n",
              "\n",
              "    [theme=dark] .colab-df-convert {\n",
              "      background-color: #3B4455;\n",
              "      fill: #D2E3FC;\n",
              "    }\n",
              "\n",
              "    [theme=dark] .colab-df-convert:hover {\n",
              "      background-color: #434B5C;\n",
              "      box-shadow: 0px 1px 3px 1px rgba(0, 0, 0, 0.15);\n",
              "      filter: drop-shadow(0px 1px 2px rgba(0, 0, 0, 0.3));\n",
              "      fill: #FFFFFF;\n",
              "    }\n",
              "  </style>\n",
              "\n",
              "      <script>\n",
              "        const buttonEl =\n",
              "          document.querySelector('#df-1379120a-cb6b-4876-a32d-44722b527ca5 button.colab-df-convert');\n",
              "        buttonEl.style.display =\n",
              "          google.colab.kernel.accessAllowed ? 'block' : 'none';\n",
              "\n",
              "        async function convertToInteractive(key) {\n",
              "          const element = document.querySelector('#df-1379120a-cb6b-4876-a32d-44722b527ca5');\n",
              "          const dataTable =\n",
              "            await google.colab.kernel.invokeFunction('convertToInteractive',\n",
              "                                                     [key], {});\n",
              "          if (!dataTable) return;\n",
              "\n",
              "          const docLinkHtml = 'Like what you see? Visit the ' +\n",
              "            '<a target=\"_blank\" href=https://colab.research.google.com/notebooks/data_table.ipynb>data table notebook</a>'\n",
              "            + ' to learn more about interactive tables.';\n",
              "          element.innerHTML = '';\n",
              "          dataTable['output_type'] = 'display_data';\n",
              "          await google.colab.output.renderOutput(dataTable, element);\n",
              "          const docLink = document.createElement('div');\n",
              "          docLink.innerHTML = docLinkHtml;\n",
              "          element.appendChild(docLink);\n",
              "        }\n",
              "      </script>\n",
              "    </div>\n",
              "  </div>\n",
              "  "
            ]
          },
          "metadata": {},
          "execution_count": 6
        }
      ]
    },
    {
      "cell_type": "code",
      "source": [
        "df_cliente_vendas.columns = ['Clientes','Vendas']\n",
        "df_cliente_vendas['Ranque'] = df_cliente_vendas.index + 1\n",
        "df_cliente_vendas.set_index('Ranque', inplace = True)\n",
        "df_cliente_vendas"
      ],
      "metadata": {
        "id": "TOWnSQJUPvLO",
        "colab": {
          "base_uri": "https://localhost:8080/"
        },
        "outputId": "c949c16f-fdce-46c3-e19e-3a32ce20f52c"
      },
      "execution_count": null,
      "outputs": [
        {
          "output_type": "execute_result",
          "data": {
            "text/plain": [
              "                     Clientes    Vendas\n",
              "Ranque                                 \n",
              "1         Maria Luiza Almeida  64777.54\n",
              "2             Ana Julia Pinto  51398.95\n",
              "3                 Ryan Farias  48178.94\n",
              "4              Heitor da Mata  47610.85\n",
              "5       Maria Clara Gonçalves  46946.42\n",
              "6              Raquel Freitas  44826.26\n",
              "7                  Davi Ramos  43769.21\n",
              "8                 Amanda Melo  42354.27\n",
              "9              Alexia Ribeiro  41238.84\n",
              "10             Calebe Ribeiro  41056.70"
            ],
            "text/html": [
              "\n",
              "  <div id=\"df-923e9568-16c6-4009-8ba9-1d28e1508c04\">\n",
              "    <div class=\"colab-df-container\">\n",
              "      <div>\n",
              "<style scoped>\n",
              "    .dataframe tbody tr th:only-of-type {\n",
              "        vertical-align: middle;\n",
              "    }\n",
              "\n",
              "    .dataframe tbody tr th {\n",
              "        vertical-align: top;\n",
              "    }\n",
              "\n",
              "    .dataframe thead th {\n",
              "        text-align: right;\n",
              "    }\n",
              "</style>\n",
              "<table border=\"1\" class=\"dataframe\">\n",
              "  <thead>\n",
              "    <tr style=\"text-align: right;\">\n",
              "      <th></th>\n",
              "      <th>Clientes</th>\n",
              "      <th>Vendas</th>\n",
              "    </tr>\n",
              "    <tr>\n",
              "      <th>Ranque</th>\n",
              "      <th></th>\n",
              "      <th></th>\n",
              "    </tr>\n",
              "  </thead>\n",
              "  <tbody>\n",
              "    <tr>\n",
              "      <th>1</th>\n",
              "      <td>Maria Luiza Almeida</td>\n",
              "      <td>64777.54</td>\n",
              "    </tr>\n",
              "    <tr>\n",
              "      <th>2</th>\n",
              "      <td>Ana Julia Pinto</td>\n",
              "      <td>51398.95</td>\n",
              "    </tr>\n",
              "    <tr>\n",
              "      <th>3</th>\n",
              "      <td>Ryan Farias</td>\n",
              "      <td>48178.94</td>\n",
              "    </tr>\n",
              "    <tr>\n",
              "      <th>4</th>\n",
              "      <td>Heitor da Mata</td>\n",
              "      <td>47610.85</td>\n",
              "    </tr>\n",
              "    <tr>\n",
              "      <th>5</th>\n",
              "      <td>Maria Clara Gonçalves</td>\n",
              "      <td>46946.42</td>\n",
              "    </tr>\n",
              "    <tr>\n",
              "      <th>6</th>\n",
              "      <td>Raquel Freitas</td>\n",
              "      <td>44826.26</td>\n",
              "    </tr>\n",
              "    <tr>\n",
              "      <th>7</th>\n",
              "      <td>Davi Ramos</td>\n",
              "      <td>43769.21</td>\n",
              "    </tr>\n",
              "    <tr>\n",
              "      <th>8</th>\n",
              "      <td>Amanda Melo</td>\n",
              "      <td>42354.27</td>\n",
              "    </tr>\n",
              "    <tr>\n",
              "      <th>9</th>\n",
              "      <td>Alexia Ribeiro</td>\n",
              "      <td>41238.84</td>\n",
              "    </tr>\n",
              "    <tr>\n",
              "      <th>10</th>\n",
              "      <td>Calebe Ribeiro</td>\n",
              "      <td>41056.70</td>\n",
              "    </tr>\n",
              "  </tbody>\n",
              "</table>\n",
              "</div>\n",
              "      <button class=\"colab-df-convert\" onclick=\"convertToInteractive('df-923e9568-16c6-4009-8ba9-1d28e1508c04')\"\n",
              "              title=\"Convert this dataframe to an interactive table.\"\n",
              "              style=\"display:none;\">\n",
              "        \n",
              "  <svg xmlns=\"http://www.w3.org/2000/svg\" height=\"24px\"viewBox=\"0 0 24 24\"\n",
              "       width=\"24px\">\n",
              "    <path d=\"M0 0h24v24H0V0z\" fill=\"none\"/>\n",
              "    <path d=\"M18.56 5.44l.94 2.06.94-2.06 2.06-.94-2.06-.94-.94-2.06-.94 2.06-2.06.94zm-11 1L8.5 8.5l.94-2.06 2.06-.94-2.06-.94L8.5 2.5l-.94 2.06-2.06.94zm10 10l.94 2.06.94-2.06 2.06-.94-2.06-.94-.94-2.06-.94 2.06-2.06.94z\"/><path d=\"M17.41 7.96l-1.37-1.37c-.4-.4-.92-.59-1.43-.59-.52 0-1.04.2-1.43.59L10.3 9.45l-7.72 7.72c-.78.78-.78 2.05 0 2.83L4 21.41c.39.39.9.59 1.41.59.51 0 1.02-.2 1.41-.59l7.78-7.78 2.81-2.81c.8-.78.8-2.07 0-2.86zM5.41 20L4 18.59l7.72-7.72 1.47 1.35L5.41 20z\"/>\n",
              "  </svg>\n",
              "      </button>\n",
              "      \n",
              "  <style>\n",
              "    .colab-df-container {\n",
              "      display:flex;\n",
              "      flex-wrap:wrap;\n",
              "      gap: 12px;\n",
              "    }\n",
              "\n",
              "    .colab-df-convert {\n",
              "      background-color: #E8F0FE;\n",
              "      border: none;\n",
              "      border-radius: 50%;\n",
              "      cursor: pointer;\n",
              "      display: none;\n",
              "      fill: #1967D2;\n",
              "      height: 32px;\n",
              "      padding: 0 0 0 0;\n",
              "      width: 32px;\n",
              "    }\n",
              "\n",
              "    .colab-df-convert:hover {\n",
              "      background-color: #E2EBFA;\n",
              "      box-shadow: 0px 1px 2px rgba(60, 64, 67, 0.3), 0px 1px 3px 1px rgba(60, 64, 67, 0.15);\n",
              "      fill: #174EA6;\n",
              "    }\n",
              "\n",
              "    [theme=dark] .colab-df-convert {\n",
              "      background-color: #3B4455;\n",
              "      fill: #D2E3FC;\n",
              "    }\n",
              "\n",
              "    [theme=dark] .colab-df-convert:hover {\n",
              "      background-color: #434B5C;\n",
              "      box-shadow: 0px 1px 3px 1px rgba(0, 0, 0, 0.15);\n",
              "      filter: drop-shadow(0px 1px 2px rgba(0, 0, 0, 0.3));\n",
              "      fill: #FFFFFF;\n",
              "    }\n",
              "  </style>\n",
              "\n",
              "      <script>\n",
              "        const buttonEl =\n",
              "          document.querySelector('#df-923e9568-16c6-4009-8ba9-1d28e1508c04 button.colab-df-convert');\n",
              "        buttonEl.style.display =\n",
              "          google.colab.kernel.accessAllowed ? 'block' : 'none';\n",
              "\n",
              "        async function convertToInteractive(key) {\n",
              "          const element = document.querySelector('#df-923e9568-16c6-4009-8ba9-1d28e1508c04');\n",
              "          const dataTable =\n",
              "            await google.colab.kernel.invokeFunction('convertToInteractive',\n",
              "                                                     [key], {});\n",
              "          if (!dataTable) return;\n",
              "\n",
              "          const docLinkHtml = 'Like what you see? Visit the ' +\n",
              "            '<a target=\"_blank\" href=https://colab.research.google.com/notebooks/data_table.ipynb>data table notebook</a>'\n",
              "            + ' to learn more about interactive tables.';\n",
              "          element.innerHTML = '';\n",
              "          dataTable['output_type'] = 'display_data';\n",
              "          await google.colab.output.renderOutput(dataTable, element);\n",
              "          const docLink = document.createElement('div');\n",
              "          docLink.innerHTML = docLinkHtml;\n",
              "          element.appendChild(docLink);\n",
              "        }\n",
              "      </script>\n",
              "    </div>\n",
              "  </div>\n",
              "  "
            ]
          },
          "metadata": {},
          "execution_count": 7
        }
      ]
    },
    {
      "cell_type": "code",
      "source": [
        "s = df_cliente_vendas.style\n",
        "s"
      ],
      "metadata": {
        "id": "BtvXNrINPvGE",
        "colab": {
          "base_uri": "https://localhost:8080/"
        },
        "outputId": "63893e18-ca98-4ce1-b995-1955fe7b243a"
      },
      "execution_count": null,
      "outputs": [
        {
          "output_type": "execute_result",
          "data": {
            "text/plain": [
              "<pandas.io.formats.style.Styler at 0x7f0122fcb250>"
            ],
            "text/html": [
              "<style type=\"text/css\">\n",
              "</style>\n",
              "<table id=\"T_23889\" class=\"dataframe\">\n",
              "  <thead>\n",
              "    <tr>\n",
              "      <th class=\"blank level0\" >&nbsp;</th>\n",
              "      <th id=\"T_23889_level0_col0\" class=\"col_heading level0 col0\" >Clientes</th>\n",
              "      <th id=\"T_23889_level0_col1\" class=\"col_heading level0 col1\" >Vendas</th>\n",
              "    </tr>\n",
              "    <tr>\n",
              "      <th class=\"index_name level0\" >Ranque</th>\n",
              "      <th class=\"blank col0\" >&nbsp;</th>\n",
              "      <th class=\"blank col1\" >&nbsp;</th>\n",
              "    </tr>\n",
              "  </thead>\n",
              "  <tbody>\n",
              "    <tr>\n",
              "      <th id=\"T_23889_level0_row0\" class=\"row_heading level0 row0\" >1</th>\n",
              "      <td id=\"T_23889_row0_col0\" class=\"data row0 col0\" >Maria Luiza Almeida</td>\n",
              "      <td id=\"T_23889_row0_col1\" class=\"data row0 col1\" >64777.540000</td>\n",
              "    </tr>\n",
              "    <tr>\n",
              "      <th id=\"T_23889_level0_row1\" class=\"row_heading level0 row1\" >2</th>\n",
              "      <td id=\"T_23889_row1_col0\" class=\"data row1 col0\" >Ana Julia Pinto</td>\n",
              "      <td id=\"T_23889_row1_col1\" class=\"data row1 col1\" >51398.950000</td>\n",
              "    </tr>\n",
              "    <tr>\n",
              "      <th id=\"T_23889_level0_row2\" class=\"row_heading level0 row2\" >3</th>\n",
              "      <td id=\"T_23889_row2_col0\" class=\"data row2 col0\" >Ryan Farias</td>\n",
              "      <td id=\"T_23889_row2_col1\" class=\"data row2 col1\" >48178.940000</td>\n",
              "    </tr>\n",
              "    <tr>\n",
              "      <th id=\"T_23889_level0_row3\" class=\"row_heading level0 row3\" >4</th>\n",
              "      <td id=\"T_23889_row3_col0\" class=\"data row3 col0\" >Heitor da Mata</td>\n",
              "      <td id=\"T_23889_row3_col1\" class=\"data row3 col1\" >47610.850000</td>\n",
              "    </tr>\n",
              "    <tr>\n",
              "      <th id=\"T_23889_level0_row4\" class=\"row_heading level0 row4\" >5</th>\n",
              "      <td id=\"T_23889_row4_col0\" class=\"data row4 col0\" >Maria Clara Gonçalves</td>\n",
              "      <td id=\"T_23889_row4_col1\" class=\"data row4 col1\" >46946.420000</td>\n",
              "    </tr>\n",
              "    <tr>\n",
              "      <th id=\"T_23889_level0_row5\" class=\"row_heading level0 row5\" >6</th>\n",
              "      <td id=\"T_23889_row5_col0\" class=\"data row5 col0\" >Raquel Freitas</td>\n",
              "      <td id=\"T_23889_row5_col1\" class=\"data row5 col1\" >44826.260000</td>\n",
              "    </tr>\n",
              "    <tr>\n",
              "      <th id=\"T_23889_level0_row6\" class=\"row_heading level0 row6\" >7</th>\n",
              "      <td id=\"T_23889_row6_col0\" class=\"data row6 col0\" >Davi Ramos</td>\n",
              "      <td id=\"T_23889_row6_col1\" class=\"data row6 col1\" >43769.210000</td>\n",
              "    </tr>\n",
              "    <tr>\n",
              "      <th id=\"T_23889_level0_row7\" class=\"row_heading level0 row7\" >8</th>\n",
              "      <td id=\"T_23889_row7_col0\" class=\"data row7 col0\" >Amanda Melo</td>\n",
              "      <td id=\"T_23889_row7_col1\" class=\"data row7 col1\" >42354.270000</td>\n",
              "    </tr>\n",
              "    <tr>\n",
              "      <th id=\"T_23889_level0_row8\" class=\"row_heading level0 row8\" >9</th>\n",
              "      <td id=\"T_23889_row8_col0\" class=\"data row8 col0\" >Alexia Ribeiro</td>\n",
              "      <td id=\"T_23889_row8_col1\" class=\"data row8 col1\" >41238.840000</td>\n",
              "    </tr>\n",
              "    <tr>\n",
              "      <th id=\"T_23889_level0_row9\" class=\"row_heading level0 row9\" >10</th>\n",
              "      <td id=\"T_23889_row9_col0\" class=\"data row9 col0\" >Calebe Ribeiro</td>\n",
              "      <td id=\"T_23889_row9_col1\" class=\"data row9 col1\" >41056.700000</td>\n",
              "    </tr>\n",
              "  </tbody>\n",
              "</table>\n"
            ]
          },
          "metadata": {},
          "execution_count": 8
        }
      ]
    },
    {
      "cell_type": "code",
      "source": [
        "s.format({'Vendas':'R$ {:,.2f}'})\n",
        "s"
      ],
      "metadata": {
        "id": "SqOpyltKPu-U",
        "colab": {
          "base_uri": "https://localhost:8080/"
        },
        "outputId": "4b399d3c-a775-4d4d-9dd9-6558f5d578ca"
      },
      "execution_count": null,
      "outputs": [
        {
          "output_type": "execute_result",
          "data": {
            "text/plain": [
              "<pandas.io.formats.style.Styler at 0x7f0122fcb250>"
            ],
            "text/html": [
              "<style type=\"text/css\">\n",
              "</style>\n",
              "<table id=\"T_23889\" class=\"dataframe\">\n",
              "  <thead>\n",
              "    <tr>\n",
              "      <th class=\"blank level0\" >&nbsp;</th>\n",
              "      <th id=\"T_23889_level0_col0\" class=\"col_heading level0 col0\" >Clientes</th>\n",
              "      <th id=\"T_23889_level0_col1\" class=\"col_heading level0 col1\" >Vendas</th>\n",
              "    </tr>\n",
              "    <tr>\n",
              "      <th class=\"index_name level0\" >Ranque</th>\n",
              "      <th class=\"blank col0\" >&nbsp;</th>\n",
              "      <th class=\"blank col1\" >&nbsp;</th>\n",
              "    </tr>\n",
              "  </thead>\n",
              "  <tbody>\n",
              "    <tr>\n",
              "      <th id=\"T_23889_level0_row0\" class=\"row_heading level0 row0\" >1</th>\n",
              "      <td id=\"T_23889_row0_col0\" class=\"data row0 col0\" >Maria Luiza Almeida</td>\n",
              "      <td id=\"T_23889_row0_col1\" class=\"data row0 col1\" >R$ 64,777.54</td>\n",
              "    </tr>\n",
              "    <tr>\n",
              "      <th id=\"T_23889_level0_row1\" class=\"row_heading level0 row1\" >2</th>\n",
              "      <td id=\"T_23889_row1_col0\" class=\"data row1 col0\" >Ana Julia Pinto</td>\n",
              "      <td id=\"T_23889_row1_col1\" class=\"data row1 col1\" >R$ 51,398.95</td>\n",
              "    </tr>\n",
              "    <tr>\n",
              "      <th id=\"T_23889_level0_row2\" class=\"row_heading level0 row2\" >3</th>\n",
              "      <td id=\"T_23889_row2_col0\" class=\"data row2 col0\" >Ryan Farias</td>\n",
              "      <td id=\"T_23889_row2_col1\" class=\"data row2 col1\" >R$ 48,178.94</td>\n",
              "    </tr>\n",
              "    <tr>\n",
              "      <th id=\"T_23889_level0_row3\" class=\"row_heading level0 row3\" >4</th>\n",
              "      <td id=\"T_23889_row3_col0\" class=\"data row3 col0\" >Heitor da Mata</td>\n",
              "      <td id=\"T_23889_row3_col1\" class=\"data row3 col1\" >R$ 47,610.85</td>\n",
              "    </tr>\n",
              "    <tr>\n",
              "      <th id=\"T_23889_level0_row4\" class=\"row_heading level0 row4\" >5</th>\n",
              "      <td id=\"T_23889_row4_col0\" class=\"data row4 col0\" >Maria Clara Gonçalves</td>\n",
              "      <td id=\"T_23889_row4_col1\" class=\"data row4 col1\" >R$ 46,946.42</td>\n",
              "    </tr>\n",
              "    <tr>\n",
              "      <th id=\"T_23889_level0_row5\" class=\"row_heading level0 row5\" >6</th>\n",
              "      <td id=\"T_23889_row5_col0\" class=\"data row5 col0\" >Raquel Freitas</td>\n",
              "      <td id=\"T_23889_row5_col1\" class=\"data row5 col1\" >R$ 44,826.26</td>\n",
              "    </tr>\n",
              "    <tr>\n",
              "      <th id=\"T_23889_level0_row6\" class=\"row_heading level0 row6\" >7</th>\n",
              "      <td id=\"T_23889_row6_col0\" class=\"data row6 col0\" >Davi Ramos</td>\n",
              "      <td id=\"T_23889_row6_col1\" class=\"data row6 col1\" >R$ 43,769.21</td>\n",
              "    </tr>\n",
              "    <tr>\n",
              "      <th id=\"T_23889_level0_row7\" class=\"row_heading level0 row7\" >8</th>\n",
              "      <td id=\"T_23889_row7_col0\" class=\"data row7 col0\" >Amanda Melo</td>\n",
              "      <td id=\"T_23889_row7_col1\" class=\"data row7 col1\" >R$ 42,354.27</td>\n",
              "    </tr>\n",
              "    <tr>\n",
              "      <th id=\"T_23889_level0_row8\" class=\"row_heading level0 row8\" >9</th>\n",
              "      <td id=\"T_23889_row8_col0\" class=\"data row8 col0\" >Alexia Ribeiro</td>\n",
              "      <td id=\"T_23889_row8_col1\" class=\"data row8 col1\" >R$ 41,238.84</td>\n",
              "    </tr>\n",
              "    <tr>\n",
              "      <th id=\"T_23889_level0_row9\" class=\"row_heading level0 row9\" >10</th>\n",
              "      <td id=\"T_23889_row9_col0\" class=\"data row9 col0\" >Calebe Ribeiro</td>\n",
              "      <td id=\"T_23889_row9_col1\" class=\"data row9 col1\" >R$ 41,056.70</td>\n",
              "    </tr>\n",
              "  </tbody>\n",
              "</table>\n"
            ]
          },
          "metadata": {},
          "execution_count": 9
        }
      ]
    },
    {
      "cell_type": "markdown",
      "source": [
        "# Missão 2: Time comercial\n",
        "\n",
        "Precisamos construir uma visualização que permita associar o **total ganho em vendas e o total lucrado por tipo de produto**.\n",
        "\n",
        "Isso vai permitir que o time comercial possa focar em estratégias para alavancar as rendas que ganham com cada tipo de produto vendido na loja."
      ],
      "metadata": {
        "id": "UITGxJXGQRtT"
      }
    },
    {
      "cell_type": "code",
      "source": [],
      "metadata": {
        "id": "mTfFGrjM_DO3"
      },
      "execution_count": null,
      "outputs": []
    },
    {
      "cell_type": "code",
      "source": [],
      "metadata": {
        "id": "aewe5DMZ_DCy"
      },
      "execution_count": null,
      "outputs": []
    },
    {
      "cell_type": "code",
      "source": [],
      "metadata": {
        "id": "tuMMvO2O_Cy9"
      },
      "execution_count": null,
      "outputs": []
    },
    {
      "cell_type": "code",
      "source": [],
      "metadata": {
        "id": "cfgHDae4_CoX"
      },
      "execution_count": null,
      "outputs": []
    },
    {
      "cell_type": "code",
      "source": [],
      "metadata": {
        "id": "TFHcS79o_Ccf"
      },
      "execution_count": null,
      "outputs": []
    },
    {
      "cell_type": "markdown",
      "source": [
        "# Missão 3: Time de logística\n",
        "\n",
        "Precisamos construir uma visualização que permita entender a **distribuição de pedidos por região do Brasil**.\n",
        "\n",
        "Isso vai permitir que o time logística entenda onde é mais interessante focar material e pessoas."
      ],
      "metadata": {
        "id": "ch9f7ppQVgBg"
      }
    },
    {
      "cell_type": "code",
      "source": [],
      "metadata": {
        "id": "84zD2U-U-xjQ"
      },
      "execution_count": null,
      "outputs": []
    },
    {
      "cell_type": "code",
      "source": [],
      "metadata": {
        "id": "ZVakvzwg-xUj"
      },
      "execution_count": null,
      "outputs": []
    },
    {
      "cell_type": "code",
      "source": [],
      "metadata": {
        "id": "Hje0Y3DH-xEM"
      },
      "execution_count": null,
      "outputs": []
    },
    {
      "cell_type": "code",
      "source": [],
      "metadata": {
        "id": "4wWiaLWT-w1i"
      },
      "execution_count": null,
      "outputs": []
    },
    {
      "cell_type": "code",
      "source": [],
      "metadata": {
        "id": "3BLMJww0-wk9"
      },
      "execution_count": null,
      "outputs": []
    },
    {
      "cell_type": "code",
      "source": [],
      "metadata": {
        "id": "9oUDDxlE-wWI"
      },
      "execution_count": null,
      "outputs": []
    },
    {
      "cell_type": "code",
      "source": [],
      "metadata": {
        "id": "LkBZBZTH-wIk"
      },
      "execution_count": null,
      "outputs": []
    },
    {
      "cell_type": "code",
      "source": [],
      "metadata": {
        "id": "ZfQYpTrQ-v9y"
      },
      "execution_count": null,
      "outputs": []
    },
    {
      "cell_type": "markdown",
      "source": [
        "# Missão 4: Time de logística\n",
        "\n",
        "Novamente o time de logística deseja repensar sua estrutura e organização de fornecimento de produtos e para isso, foi pensada em uma visualização que permita identificar padrão de **quantidade de produtos solicitados por mês por departamento**."
      ],
      "metadata": {
        "id": "mKHWFUA6dG3-"
      }
    },
    {
      "cell_type": "code",
      "source": [],
      "metadata": {
        "id": "saGQ7Uwi-iDs"
      },
      "execution_count": null,
      "outputs": []
    },
    {
      "cell_type": "code",
      "source": [],
      "metadata": {
        "id": "FLaIOSQp-h4B"
      },
      "execution_count": null,
      "outputs": []
    },
    {
      "cell_type": "code",
      "source": [],
      "metadata": {
        "id": "s_SHR6Q6-hnl"
      },
      "execution_count": null,
      "outputs": []
    },
    {
      "cell_type": "code",
      "source": [],
      "metadata": {
        "id": "BucP7anT-hZA"
      },
      "execution_count": null,
      "outputs": []
    },
    {
      "cell_type": "code",
      "source": [],
      "metadata": {
        "id": "EqzrCIiC-hNZ"
      },
      "execution_count": null,
      "outputs": []
    },
    {
      "cell_type": "code",
      "source": [],
      "metadata": {
        "id": "g5gSKLgT-hC7"
      },
      "execution_count": null,
      "outputs": []
    },
    {
      "cell_type": "markdown",
      "source": [
        "# Missão 5: Relatório de performance\n",
        "\n",
        "O relatório de performance é um documento muito importante para a empresa. Nele, todos que trabalham na loja podem entender como anda a empresa. Por conta disso, tabelas bem construídas são essenciais para mostrar os dados da melhor forma.\n",
        "\n",
        "Portanto, precisamos construir uma visualização que permita entender a **relação entre tipos de clientes e modo de envio de produtos de acordo com as vendas**. Com isso, será possível destacar no relatório qual o modo de envio e quais tipos de modo de envio mais geraram ganho em vendas."
      ],
      "metadata": {
        "id": "XtlH8tHOdUOv"
      }
    },
    {
      "cell_type": "code",
      "source": [],
      "metadata": {
        "id": "xTqfRzcW9pb9"
      },
      "execution_count": null,
      "outputs": []
    },
    {
      "cell_type": "code",
      "source": [],
      "metadata": {
        "id": "vgUXNWJw9n3b"
      },
      "execution_count": null,
      "outputs": []
    },
    {
      "cell_type": "code",
      "source": [],
      "metadata": {
        "id": "oflYY0fg9mmX"
      },
      "execution_count": null,
      "outputs": []
    },
    {
      "cell_type": "code",
      "source": [],
      "metadata": {
        "id": "ZbjboB3M9lVv"
      },
      "execution_count": null,
      "outputs": []
    },
    {
      "cell_type": "code",
      "source": [],
      "metadata": {
        "id": "ELdAdc-B9kFL"
      },
      "execution_count": null,
      "outputs": []
    },
    {
      "cell_type": "code",
      "source": [],
      "metadata": {
        "id": "POViQY4H9iVn"
      },
      "execution_count": null,
      "outputs": []
    }
  ]
}