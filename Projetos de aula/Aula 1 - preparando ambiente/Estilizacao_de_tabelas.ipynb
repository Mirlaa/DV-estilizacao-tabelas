{
  "nbformat": 4,
  "nbformat_minor": 0,
  "metadata": {
    "colab": {
      "provenance": [],
      "collapsed_sections": [
        "cJc43_SLO8T2",
        "UITGxJXGQRtT",
        "XtlH8tHOdUOv"
      ]
    },
    "kernelspec": {
      "name": "python3",
      "display_name": "Python 3"
    },
    "language_info": {
      "name": "python"
    }
  },
  "cells": [
    {
      "cell_type": "markdown",
      "source": [
        "# Coleta e preparação de dados"
      ],
      "metadata": {
        "id": "AXPz8H6FOyfG"
      }
    },
    {
      "cell_type": "code",
      "source": [
        "!pip install pandas==2.0.0"
      ],
      "metadata": {
        "id": "pRmInc-p_YWw"
      },
      "execution_count": null,
      "outputs": []
    },
    {
      "cell_type": "code",
      "source": [],
      "metadata": {
        "id": "yPMPbFJg_dJ-"
      },
      "execution_count": null,
      "outputs": []
    },
    {
      "cell_type": "code",
      "source": [],
      "metadata": {
        "id": "Gjo8T_6p_c9E"
      },
      "execution_count": null,
      "outputs": []
    },
    {
      "cell_type": "code",
      "source": [],
      "metadata": {
        "id": "9wSXikuT_csO"
      },
      "execution_count": null,
      "outputs": []
    },
    {
      "cell_type": "code",
      "source": [],
      "metadata": {
        "id": "E65QDp7-_ciA"
      },
      "execution_count": null,
      "outputs": []
    },
    {
      "cell_type": "code",
      "execution_count": null,
      "metadata": {
        "id": "pViQUUzbOr4_"
      },
      "outputs": [],
      "source": []
    },
    {
      "cell_type": "markdown",
      "source": [
        "# Missão 1: Time de vendas\n",
        "\n",
        "Precisamos construir uma visualização para indicar os **10 maiores clientes por total de venda**.\n",
        "\n",
        "Com isso, a equipe de vendas pode pensar em estratégias para manter esses clientes comprando em nossa loja."
      ],
      "metadata": {
        "id": "cJc43_SLO8T2"
      }
    },
    {
      "cell_type": "code",
      "source": [],
      "metadata": {
        "id": "3W3_bgfm_TFW"
      },
      "execution_count": null,
      "outputs": []
    },
    {
      "cell_type": "code",
      "source": [],
      "metadata": {
        "id": "BwOCrl5i_S5Z"
      },
      "execution_count": null,
      "outputs": []
    },
    {
      "cell_type": "code",
      "source": [],
      "metadata": {
        "id": "poTPbx4s_SuQ"
      },
      "execution_count": null,
      "outputs": []
    },
    {
      "cell_type": "code",
      "source": [],
      "metadata": {
        "id": "PJR6FbH5_Sjn"
      },
      "execution_count": null,
      "outputs": []
    },
    {
      "cell_type": "markdown",
      "source": [
        "# Missão 2: Time comercial\n",
        "\n",
        "Precisamos construir uma visualização que permita associar o **total ganho em vendas e o total lucrado por tipo de produto**.\n",
        "\n",
        "Isso vai permitir que o time comercial possa focar em estratégias para alavancar as rendas que ganham com cada tipo de produto vendido na loja."
      ],
      "metadata": {
        "id": "UITGxJXGQRtT"
      }
    },
    {
      "cell_type": "code",
      "source": [],
      "metadata": {
        "id": "mTfFGrjM_DO3"
      },
      "execution_count": null,
      "outputs": []
    },
    {
      "cell_type": "code",
      "source": [],
      "metadata": {
        "id": "aewe5DMZ_DCy"
      },
      "execution_count": null,
      "outputs": []
    },
    {
      "cell_type": "code",
      "source": [],
      "metadata": {
        "id": "tuMMvO2O_Cy9"
      },
      "execution_count": null,
      "outputs": []
    },
    {
      "cell_type": "code",
      "source": [],
      "metadata": {
        "id": "cfgHDae4_CoX"
      },
      "execution_count": null,
      "outputs": []
    },
    {
      "cell_type": "code",
      "source": [],
      "metadata": {
        "id": "TFHcS79o_Ccf"
      },
      "execution_count": null,
      "outputs": []
    },
    {
      "cell_type": "markdown",
      "source": [
        "# Missão 3: Time de logística\n",
        "\n",
        "Precisamos construir uma visualização que permita entender a **distribuição de pedidos por região do Brasil**.\n",
        "\n",
        "Isso vai permitir que o time logística entenda onde é mais interessante focar material e pessoas."
      ],
      "metadata": {
        "id": "ch9f7ppQVgBg"
      }
    },
    {
      "cell_type": "code",
      "source": [],
      "metadata": {
        "id": "84zD2U-U-xjQ"
      },
      "execution_count": null,
      "outputs": []
    },
    {
      "cell_type": "code",
      "source": [],
      "metadata": {
        "id": "ZVakvzwg-xUj"
      },
      "execution_count": null,
      "outputs": []
    },
    {
      "cell_type": "code",
      "source": [],
      "metadata": {
        "id": "Hje0Y3DH-xEM"
      },
      "execution_count": null,
      "outputs": []
    },
    {
      "cell_type": "code",
      "source": [],
      "metadata": {
        "id": "4wWiaLWT-w1i"
      },
      "execution_count": null,
      "outputs": []
    },
    {
      "cell_type": "code",
      "source": [],
      "metadata": {
        "id": "3BLMJww0-wk9"
      },
      "execution_count": null,
      "outputs": []
    },
    {
      "cell_type": "code",
      "source": [],
      "metadata": {
        "id": "9oUDDxlE-wWI"
      },
      "execution_count": null,
      "outputs": []
    },
    {
      "cell_type": "code",
      "source": [],
      "metadata": {
        "id": "LkBZBZTH-wIk"
      },
      "execution_count": null,
      "outputs": []
    },
    {
      "cell_type": "code",
      "source": [],
      "metadata": {
        "id": "ZfQYpTrQ-v9y"
      },
      "execution_count": null,
      "outputs": []
    },
    {
      "cell_type": "markdown",
      "source": [
        "# Missão 4: Time de logística\n",
        "\n",
        "Novamente o time de logística deseja repensar sua estrutura e organização de fornecimento de produtos e para isso, foi pensada em uma visualização que permita identificar padrão de **quantidade de produtos solicitados por mês por departamento**."
      ],
      "metadata": {
        "id": "mKHWFUA6dG3-"
      }
    },
    {
      "cell_type": "code",
      "source": [],
      "metadata": {
        "id": "saGQ7Uwi-iDs"
      },
      "execution_count": null,
      "outputs": []
    },
    {
      "cell_type": "code",
      "source": [],
      "metadata": {
        "id": "FLaIOSQp-h4B"
      },
      "execution_count": null,
      "outputs": []
    },
    {
      "cell_type": "code",
      "source": [],
      "metadata": {
        "id": "s_SHR6Q6-hnl"
      },
      "execution_count": null,
      "outputs": []
    },
    {
      "cell_type": "code",
      "source": [],
      "metadata": {
        "id": "BucP7anT-hZA"
      },
      "execution_count": null,
      "outputs": []
    },
    {
      "cell_type": "code",
      "source": [],
      "metadata": {
        "id": "EqzrCIiC-hNZ"
      },
      "execution_count": null,
      "outputs": []
    },
    {
      "cell_type": "code",
      "source": [],
      "metadata": {
        "id": "g5gSKLgT-hC7"
      },
      "execution_count": null,
      "outputs": []
    },
    {
      "cell_type": "markdown",
      "source": [
        "# Missão 5: Relatório de performance\n",
        "\n",
        "O relatório de performance é um documento muito importante para a empresa. Nele, todos que trabalham na loja podem entender como anda a empresa. Por conta disso, tabelas bem construídas são essenciais para mostrar os dados da melhor forma.\n",
        "\n",
        "Portanto, precisamos construir uma visualização que permita entender a **relação entre tipos de clientes e modo de envio de produtos de acordo com as vendas**. Com isso, será possível destacar no relatório qual o modo de envio e quais tipos de modo de envio mais geraram ganho em vendas."
      ],
      "metadata": {
        "id": "XtlH8tHOdUOv"
      }
    },
    {
      "cell_type": "code",
      "source": [],
      "metadata": {
        "id": "xTqfRzcW9pb9"
      },
      "execution_count": null,
      "outputs": []
    },
    {
      "cell_type": "code",
      "source": [],
      "metadata": {
        "id": "vgUXNWJw9n3b"
      },
      "execution_count": null,
      "outputs": []
    },
    {
      "cell_type": "code",
      "source": [],
      "metadata": {
        "id": "oflYY0fg9mmX"
      },
      "execution_count": null,
      "outputs": []
    },
    {
      "cell_type": "code",
      "source": [],
      "metadata": {
        "id": "ZbjboB3M9lVv"
      },
      "execution_count": null,
      "outputs": []
    },
    {
      "cell_type": "code",
      "source": [],
      "metadata": {
        "id": "ELdAdc-B9kFL"
      },
      "execution_count": null,
      "outputs": []
    },
    {
      "cell_type": "code",
      "source": [],
      "metadata": {
        "id": "POViQY4H9iVn"
      },
      "execution_count": null,
      "outputs": []
    }
  ]
}